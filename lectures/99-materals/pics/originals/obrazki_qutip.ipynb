{
 "cells": [
  {
   "cell_type": "code",
   "execution_count": 1,
   "metadata": {
    "collapsed": false
   },
   "outputs": [],
   "source": [
    "# from pylab import *\n",
    "from qutip import *\n",
    "import numpy as np\n",
    "%matplotlib inline\n",
    "from matplotlib import rc\n",
    "rc('text', usetex=True)"
   ]
  },
  {
   "cell_type": "code",
   "execution_count": 2,
   "metadata": {
    "collapsed": false
   },
   "outputs": [],
   "source": [
    "bs=[Bloch() for _ in range(7)]\n",
    "x1=(basis(2,0)+(1+0j)*basis(2,1)).unit()\n",
    "y1=(basis(2,0)+(0+1j)*basis(2,1)).unit()\n",
    "z1=(basis(2,0)+(0+0j)*basis(2,1)).unit()\n",
    "\n",
    "x2=sigmay()*x1\n",
    "y2=sigmaz()*y1\n",
    "z2=sigmax()*z1\n",
    "\n",
    "psi1=(0.7*basis(2,0)+(0+0.3j)*basis(2,1)).unit()\n",
    "\n",
    "bs[0].add_states([z1])\n",
    "bs[1].add_states([z2])\n",
    "bs[2].add_states([x1])\n",
    "bs[3].add_states([x2])\n",
    "bs[4].add_states([y1])\n",
    "bs[5].add_states([y2])\n",
    "\n",
    "bs[6].add_states([psi1])\n",
    "\n",
    "def prettify_bloch(b):\n",
    "    b.vector_width=3\n",
    "    b.font_size=30\n",
    "    b.sphere_color = \"#DDDDDD\"\n",
    "    b.vector_color = [\"#000000\"]\n",
    "    b.xlabel = [r\"$\\left|+\\right\\rangle$\",r\"$\\left|-\\right\\rangle$\"]\n",
    "    b.ylabel = [r\"$\\left|+_{\\mathrm{i}}\\right\\rangle$\",r\"$\\left|-_{\\mathrm{i}}\\right\\rangle$\"]\n",
    "    b.zlabel = [r\"$\\left|0\\right\\rangle$\",r\"$\\left|1\\right\\rangle$\"]\n",
    "    b.xlpos = [1.3, -1.3]\n",
    "    b.zlpos = [1.3, -1.4]\n",
    "    b.ylpos = [1.3, -1.4]\n",
    "    \n",
    "for b in bs: \n",
    "    prettify_bloch(b)"
   ]
  },
  {
   "cell_type": "code",
   "execution_count": 33,
   "metadata": {
    "collapsed": false
   },
   "outputs": [],
   "source": [
    "# bs[0].save(\"z1.svg\")\n",
    "# bs[1].save(\"z2.svg\")\n",
    "# bs[2].save(\"x1.svg\")\n",
    "# bs[3].save(\"x2.svg\")\n",
    "# bs[4].save(\"y1.svg\")\n",
    "# bs[5].save(\"y2.svg\")\n",
    "# bs[6].save(\"psi1.svg\")"
   ]
  },
  {
   "cell_type": "code",
   "execution_count": 19,
   "metadata": {
    "collapsed": false
   },
   "outputs": [
    {
     "data": {
      "text/plain": [
       "(Quantum object: dims = [[2], [1]], shape = [2, 1], type = ket\n",
       " Qobj data =\n",
       " [[ 0.70710678]\n",
       "  [ 0.70710678]], Quantum object: dims = [[2], [1]], shape = [2, 1], type = ket\n",
       " Qobj data =\n",
       " [[ 0.70710678]\n",
       "  [-0.70710678]])"
      ]
     },
     "execution_count": 19,
     "metadata": {},
     "output_type": "execute_result"
    }
   ],
   "source": [
    "x1,sigmay()*x1*1j\n"
   ]
  },
  {
   "cell_type": "code",
   "execution_count": 11,
   "metadata": {
    "collapsed": false
   },
   "outputs": [],
   "source": [
    "a=bs[5]"
   ]
  },
  {
   "cell_type": "code",
   "execution_count": 12,
   "metadata": {
    "collapsed": false
   },
   "outputs": [
    {
     "data": {
      "text/plain": [
       "[[0.0, -0.9999999999999998, 0.0]]"
      ]
     },
     "execution_count": 12,
     "metadata": {},
     "output_type": "execute_result"
    }
   ],
   "source": [
    "a.vectors"
   ]
  },
  {
   "cell_type": "code",
   "execution_count": null,
   "metadata": {
    "collapsed": false
   },
   "outputs": [],
   "source": [
    "b=Bloch()\n",
    "s = sqrt(0.7)*basis(2,0)+sqrt(0.3)*1j*basis(2,1)\n",
    "b.add_states([s])\n",
    "b.vector_width=10\n",
    "b.save(\"psi.svg\")"
   ]
  },
  {
   "cell_type": "code",
   "execution_count": null,
   "metadata": {
    "collapsed": false
   },
   "outputs": [],
   "source": [
    "p0 = (z1*z1.dag()*s*s.dag()).tr()\n",
    "p1 = (z2*z2.dag()*s*s.dag()).tr()\n",
    "print(p0,p1)\n",
    "p0 = (y1*y1.dag()*s*s.dag()).tr()\n",
    "p1 = (y2*y2.dag()*s*s.dag()).tr()\n",
    "print(p0,p1)"
   ]
  },
  {
   "cell_type": "code",
   "execution_count": 5,
   "metadata": {
    "collapsed": true
   },
   "outputs": [],
   "source": [
    "def Rz(β):\n",
    "    return Qobj([[np.exp(1j*β/2),0],[0,np.exp(-1j*β/2)]])\n",
    "\n",
    "def Ry(γ):\n",
    "    return Qobj([[np.cos(γ/2),np.sin(γ/2)],[-np.sin(γ/2),np.cos(γ/2)]])\n",
    "\n",
    "def Ph(α):\n",
    "    return Qobj([[np.exp(1j*α),0],[0,np.exp(1j*α)]])\n",
    "\n",
    "def Rϕ(ϕ):\n",
    "    return Qobj([[1,0],[0,np.exp(1j*ϕ)]])\n",
    "\n",
    "\n",
    "def plot_gates(gate):\n",
    "    b1 = Bloch()\n",
    "    vb = [x1,y1,z1]\n",
    "    vs = [[gate(np.pi*ϕ)*v for v in vb] for ϕ in [0.05,0.1,0.15,0.2]]\n",
    "    b1.add_states(vb)\n",
    "    for x in vs:\n",
    "        b1.add_states(x)\n",
    "    prettify_bloch(b1)\n",
    "    b1.vector_color = [(0,0,0)]*3 + [(0.15,0.15,0.15)]*3 + [(0.3,0.3,0.3)]*3 + [(0.45,0.45,0.45)]*3 + [(0.6,0.6,0.6)]*3\n",
    "    return b1\n",
    "\n",
    "def plot_gate(gate):\n",
    "    b1 = Bloch()\n",
    "    vb = [x1,y1,z1]\n",
    "    vs = [gate*v for v in vb]\n",
    "    b1.add_states(vb)\n",
    "    for x in vs:\n",
    "        b1.add_states(x)\n",
    "    prettify_bloch(b1)\n",
    "    b1.vector_color = [(0,0,0)]*3 + [(0.6,0.6,0.6)]*3\n",
    "    return b1"
   ]
  },
  {
   "cell_type": "code",
   "execution_count": 109,
   "metadata": {
    "collapsed": false
   },
   "outputs": [],
   "source": [
    "b=plot_gates(Rz)\n",
    "# b.save(\"Rz.svg\")"
   ]
  },
  {
   "cell_type": "code",
   "execution_count": 110,
   "metadata": {
    "collapsed": false
   },
   "outputs": [],
   "source": [
    "b=plot_gates(Ry)\n",
    "# b.save(\"Ry.svg\")"
   ]
  },
  {
   "cell_type": "code",
   "execution_count": 111,
   "metadata": {
    "collapsed": true
   },
   "outputs": [],
   "source": [
    "b=plot_gates(Rϕ)\n",
    "# b.save(\"Rphi.svg\")"
   ]
  },
  {
   "cell_type": "code",
   "execution_count": 112,
   "metadata": {
    "collapsed": false
   },
   "outputs": [],
   "source": [
    "b=plot_gate(hadamard_transform())\n",
    "# b.save(\"hadamard.svg\")"
   ]
  },
  {
   "cell_type": "code",
   "execution_count": 6,
   "metadata": {
    "collapsed": false
   },
   "outputs": [],
   "source": [
    "b=plot_gates(Ph)\n",
    "# b.save(\"Ph.svg\")"
   ]
  },
  {
   "cell_type": "code",
   "execution_count": null,
   "metadata": {
    "collapsed": true
   },
   "outputs": [],
   "source": []
  }
 ],
 "metadata": {
  "kernelspec": {
   "display_name": "Python 3",
   "language": "python",
   "name": "python3"
  },
  "language_info": {
   "codemirror_mode": {
    "name": "ipython",
    "version": 3
   },
   "file_extension": ".py",
   "mimetype": "text/x-python",
   "name": "python",
   "nbconvert_exporter": "python",
   "pygments_lexer": "ipython3",
   "version": "3.5.1"
  }
 },
 "nbformat": 4,
 "nbformat_minor": 0
}
