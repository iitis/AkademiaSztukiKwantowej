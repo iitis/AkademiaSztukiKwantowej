{
 "cells": [
  {
   "cell_type": "markdown",
   "metadata": {},
   "source": [
    "![IITIS](pictures/logoIITISduze.png)"
   ]
  },
  {
   "cell_type": "markdown",
   "metadata": {},
   "source": [
    "# Introduction to Quadratic Unconstrained Binary Optimisation\n",
    "Quadratic Unconstrained Binary Optimization (QUBO) is a mathematical model used for solving combinatorial optimization problems. As name sugests it is concerned with models where there are quadratic dependencies between variables, there are no constrains and variables are binary. This description encompases suprisingly large class of problems, such as MAX-CUT, traveling salesman or job shob sheduling.  \n",
    "\n",
    "## Definition\n",
    "The QUBO model is expressed by the following optimization problem. Given symmetric matrix $Q$, find binary vector $\\bm{x}^*$ such that:\n",
    "\n",
    "$$ \\bm{x}^* = \\arg \\min_x \\bm{x}Q\\bm{x}^T = \\sum_i \\sum_j Q_{i,j} x_i x_j$$\n",
    "\n",
    "It is common to change the Q matrix into upper triangular form, which can be\n",
    "achieved without loss of generality simply as follows. For all $i$ and $j$ with $j>i$ , replace $Q_{ij}$ by $Q_{ij} + Q_{ji}$ . Then replace all $Q_{ji}$\n",
    "for $j < i$ by 0. \n",
    "\n",
    "It is worth noting that for binary variables, $x^2 = x$. This allows us to divide QUBO into linear part on the diagonal and quadratic part:\n",
    "\n",
    "$$ \\bm{x}Q\\bm{x}^T =  \\sum_i Q_{i,i} x_i + \\sum_{i \\neq j} Q_{i,j} x_i x_j$$\n",
    "\n"
   ]
  },
  {
   "cell_type": "markdown",
   "metadata": {
    "vscode": {
     "languageId": "plaintext"
    }
   },
   "source": [
    "\n",
    "## Conection to Ising Model\n",
    "\n",
    "The formula given above is suspiciously similar to definition of Ising model. As reminder, The definition of ising model is:\n",
    "\n",
    "$$\n",
    "    H(\\textbf{s}) =  \\sum_{i < j} J_{ij} s_i s_j + \\sum_i h_i s_i\n",
    "$$\n",
    "\n",
    "where we assume that $\\textbf{J}$ is a uper triangular matrix, $i=1, \\ldots, N$ and  $s_i = \\pm 1$. \n",
    "\n",
    "\n",
    "In fact solving QUBO and finding ground states of ising model are equivalent problems!. They can be relatively easy changed into each other by performing following substitution\n",
    "\n",
    "$$x_i = \\frac{s_i + 1}{2}$$\n",
    "$$s_i = 2x_i - 1$$\n",
    "\n",
    "If we substitute those variable to respective formulas we get:\n",
    "\n",
    "$$\n",
    "Q_{ij} = 4 J_{ij} \n",
    "$$\n",
    "$$\n",
    "Q_{ii} = 2h_i - 2\\sum_{j \\neq i} J_{ij})\n",
    "$$\n",
    "\n",
    "and\n",
    "\n",
    "$$\n",
    "J_{ij} = \\frac{1}{4} Q_{i,j}\n",
    "$$\n",
    "$$\n",
    "h_{i} = \\frac{1}{2} \\sum_j Q_{i,j}\n",
    "$$\n",
    "\n",
    "It is important to remember that transforimation generates some additional constant, so obtained values of objective funtion cannot be directly compared. \n",
    "\n",
    "### The `pyqubo` package\n",
    "\n",
    "The `pyqubo` is a really usefull package for working with QUBOs and Ising models."
   ]
  },
  {
   "cell_type": "code",
   "execution_count": null,
   "metadata": {},
   "outputs": [],
   "source": [
    "import pyqubo"
   ]
  },
  {
   "cell_type": "markdown",
   "metadata": {},
   "source": [
    "## Example"
   ]
  },
  {
   "cell_type": "markdown",
   "metadata": {},
   "source": [
    "# Encoding problems as QUBO\n",
    "\n",
    "Is this section we will present some problems witch have natural formulation as QUBO.\n",
    "\n",
    "##  The Number Partitioning Problem\n",
    "\n",
    "## Max-Cut\n",
    "\n",
    "The Max Cut problem is one of the most famous problems in combinatorial optimization. Given\n",
    "an undirected graph $G(V, E)$ with a vertex set $V$ and an edge set $E$, the Max Cut problem seeks to\n",
    "partition $V$ into two sets such that the number of edges between the two sets (considered to be\n",
    "severed by the cut), is a large as possible.\n",
    "We can model this problem by introducing binary variables satisfying $𝑥_i = 1$ if vertex i is in one\n",
    "set and $𝑥_i = 0$ if it is in the other set. Viewing a cut as severing edges joining two sets, to leave\n",
    "endpoints of the edges in different vertex sets, the quantity $𝑥_i  + 𝑥_j − 2𝑥_i 𝑥_j$ identifies whether\n",
    "the edge $(𝑖, 𝑗)$ is in the cut.\n",
    "\n",
    "Thus, the problem of maximizing the number of edges in the cut can be formulated as:\n",
    "$$\\max \\sum_{(i,j) \\in G} (𝑥_i  + 𝑥_j − 2𝑥_i 𝑥_j) = \\min \\sum_{(i,j) \\in G} (-𝑥_i  - 𝑥_j + 2𝑥_i 𝑥_j) $$\n",
    "\n",
    "\n",
    "![example](pictures/cut_examples.png)"
   ]
  }
 ],
 "metadata": {
  "language_info": {
   "name": "python"
  }
 },
 "nbformat": 4,
 "nbformat_minor": 2
}
