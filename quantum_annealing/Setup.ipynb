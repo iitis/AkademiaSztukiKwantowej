{
 "cells": [
  {
   "cell_type": "markdown",
   "metadata": {},
   "source": [
    "![IITIS](pictures/logoIITISduze.png)"
   ]
  },
  {
   "cell_type": "markdown",
   "metadata": {},
   "source": [
    "# Setup\n",
    "\n",
    "This file describes how to setup your working environment to follow the course "
   ]
  },
  {
   "cell_type": "markdown",
   "metadata": {},
   "source": [
    "# Local Python Setup\n",
    "\n",
    "1. Create a new local Python environment (conda, venv, etc.). If you do not know how to do it, look [here](https://realpython.com/python-virtual-environments-a-primer/). \n",
    "2. Activate your environment.  \n",
    "3. Run the cell below to install the required packages."
   ]
  },
  {
   "cell_type": "code",
   "execution_count": 7,
   "metadata": {},
   "outputs": [
    {
     "name": "stdout",
     "output_type": "stream",
     "text": [
      "Requirement already satisfied: dwave-ocean-sdk>=3.3.0 in c:\\users\\tsmierzchalski\\anaconda3\\envs\\workshop\\lib\\site-packages (from -r requirements.txt (line 1)) (6.10.0)\n",
      "Requirement already satisfied: matplotlib>=3.3.4 in c:\\users\\tsmierzchalski\\anaconda3\\envs\\workshop\\lib\\site-packages (from -r requirements.txt (line 2)) (3.8.4)\n",
      "Requirement already satisfied: numpy>=1.26.0 in c:\\users\\tsmierzchalski\\anaconda3\\envs\\workshop\\lib\\site-packages (from -r requirements.txt (line 3)) (1.26.4)\n",
      "Requirement already satisfied: networkx>=3.3 in c:\\users\\tsmierzchalski\\anaconda3\\envs\\workshop\\lib\\site-packages (from -r requirements.txt (line 4)) (3.3)\n",
      "Requirement already satisfied: dimod==0.12.14 in c:\\users\\tsmierzchalski\\anaconda3\\envs\\workshop\\lib\\site-packages (from dwave-ocean-sdk>=3.3.0->-r requirements.txt (line 1)) (0.12.14)\n",
      "Requirement already satisfied: dwave-cloud-client==0.11.4 in c:\\users\\tsmierzchalski\\anaconda3\\envs\\workshop\\lib\\site-packages (from dwave-ocean-sdk>=3.3.0->-r requirements.txt (line 1)) (0.11.4)\n",
      "Requirement already satisfied: dwave-greedy==0.3.0 in c:\\users\\tsmierzchalski\\anaconda3\\envs\\workshop\\lib\\site-packages (from dwave-ocean-sdk>=3.3.0->-r requirements.txt (line 1)) (0.3.0)\n",
      "Requirement already satisfied: dwave-hybrid==0.6.11 in c:\\users\\tsmierzchalski\\anaconda3\\envs\\workshop\\lib\\site-packages (from dwave-ocean-sdk>=3.3.0->-r requirements.txt (line 1)) (0.6.11)\n",
      "Requirement already satisfied: dwave-inspector==0.5.0 in c:\\users\\tsmierzchalski\\anaconda3\\envs\\workshop\\lib\\site-packages (from dwave-ocean-sdk>=3.3.0->-r requirements.txt (line 1)) (0.5.0)\n",
      "Requirement already satisfied: dwave-neal==0.6.0 in c:\\users\\tsmierzchalski\\anaconda3\\envs\\workshop\\lib\\site-packages (from dwave-ocean-sdk>=3.3.0->-r requirements.txt (line 1)) (0.6.0)\n",
      "Requirement already satisfied: dwave-networkx==0.8.14 in c:\\users\\tsmierzchalski\\anaconda3\\envs\\workshop\\lib\\site-packages (from dwave-ocean-sdk>=3.3.0->-r requirements.txt (line 1)) (0.8.14)\n",
      "Requirement already satisfied: dwave-preprocessing==0.6.5 in c:\\users\\tsmierzchalski\\anaconda3\\envs\\workshop\\lib\\site-packages (from dwave-ocean-sdk>=3.3.0->-r requirements.txt (line 1)) (0.6.5)\n",
      "Requirement already satisfied: dwave-samplers==1.2.0 in c:\\users\\tsmierzchalski\\anaconda3\\envs\\workshop\\lib\\site-packages (from dwave-ocean-sdk>=3.3.0->-r requirements.txt (line 1)) (1.2.0)\n",
      "Requirement already satisfied: dwave-system==1.24.0 in c:\\users\\tsmierzchalski\\anaconda3\\envs\\workshop\\lib\\site-packages (from dwave-ocean-sdk>=3.3.0->-r requirements.txt (line 1)) (1.24.0)\n",
      "Requirement already satisfied: dwave-tabu==0.5.0 in c:\\users\\tsmierzchalski\\anaconda3\\envs\\workshop\\lib\\site-packages (from dwave-ocean-sdk>=3.3.0->-r requirements.txt (line 1)) (0.5.0)\n",
      "Requirement already satisfied: dwavebinarycsp==0.3.0 in c:\\users\\tsmierzchalski\\anaconda3\\envs\\workshop\\lib\\site-packages (from dwave-ocean-sdk>=3.3.0->-r requirements.txt (line 1)) (0.3.0)\n",
      "Requirement already satisfied: minorminer==0.2.13 in c:\\users\\tsmierzchalski\\anaconda3\\envs\\workshop\\lib\\site-packages (from dwave-ocean-sdk>=3.3.0->-r requirements.txt (line 1)) (0.2.13)\n",
      "Requirement already satisfied: penaltymodel==1.1.0 in c:\\users\\tsmierzchalski\\anaconda3\\envs\\workshop\\lib\\site-packages (from dwave-ocean-sdk>=3.3.0->-r requirements.txt (line 1)) (1.1.0)\n",
      "Requirement already satisfied: requests[socks]<3,>=2.25 in c:\\users\\tsmierzchalski\\anaconda3\\envs\\workshop\\lib\\site-packages (from dwave-cloud-client==0.11.4->dwave-ocean-sdk>=3.3.0->-r requirements.txt (line 1)) (2.28.2)\n",
      "Requirement already satisfied: urllib3<3,>=1.26 in c:\\users\\tsmierzchalski\\anaconda3\\envs\\workshop\\lib\\site-packages (from dwave-cloud-client==0.11.4->dwave-ocean-sdk>=3.3.0->-r requirements.txt (line 1)) (1.26.15)\n",
      "Requirement already satisfied: pydantic<3,>=2 in c:\\users\\tsmierzchalski\\anaconda3\\envs\\workshop\\lib\\site-packages (from dwave-cloud-client==0.11.4->dwave-ocean-sdk>=3.3.0->-r requirements.txt (line 1)) (2.7.1)\n",
      "Requirement already satisfied: homebase<2,>=1.0 in c:\\users\\tsmierzchalski\\anaconda3\\envs\\workshop\\lib\\site-packages (from dwave-cloud-client==0.11.4->dwave-ocean-sdk>=3.3.0->-r requirements.txt (line 1)) (1.0.1)\n",
      "Requirement already satisfied: click<9,>=7.0 in c:\\users\\tsmierzchalski\\anaconda3\\envs\\workshop\\lib\\site-packages (from dwave-cloud-client==0.11.4->dwave-ocean-sdk>=3.3.0->-r requirements.txt (line 1)) (8.1.3)\n",
      "Requirement already satisfied: python-dateutil<3,>=2.7 in c:\\users\\tsmierzchalski\\anaconda3\\envs\\workshop\\lib\\site-packages (from dwave-cloud-client==0.11.4->dwave-ocean-sdk>=3.3.0->-r requirements.txt (line 1)) (2.8.2)\n",
      "Requirement already satisfied: plucky<0.5,>=0.4.3 in c:\\users\\tsmierzchalski\\anaconda3\\envs\\workshop\\lib\\site-packages (from dwave-cloud-client==0.11.4->dwave-ocean-sdk>=3.3.0->-r requirements.txt (line 1)) (0.4.3)\n",
      "Requirement already satisfied: diskcache<6,>=5.2.1 in c:\\users\\tsmierzchalski\\anaconda3\\envs\\workshop\\lib\\site-packages (from dwave-cloud-client==0.11.4->dwave-ocean-sdk>=3.3.0->-r requirements.txt (line 1)) (5.6.1)\n",
      "Requirement already satisfied: packaging>=19 in c:\\users\\tsmierzchalski\\anaconda3\\envs\\workshop\\lib\\site-packages (from dwave-cloud-client==0.11.4->dwave-ocean-sdk>=3.3.0->-r requirements.txt (line 1)) (23.0)\n",
      "Requirement already satisfied: werkzeug<4,>=2.2 in c:\\users\\tsmierzchalski\\anaconda3\\envs\\workshop\\lib\\site-packages (from dwave-cloud-client==0.11.4->dwave-ocean-sdk>=3.3.0->-r requirements.txt (line 1)) (2.2.3)\n",
      "Requirement already satisfied: typing-extensions<5,>=4.5.0 in c:\\users\\tsmierzchalski\\anaconda3\\envs\\workshop\\lib\\site-packages (from dwave-cloud-client==0.11.4->dwave-ocean-sdk>=3.3.0->-r requirements.txt (line 1)) (4.11.0)\n",
      "Requirement already satisfied: authlib<2,>=1.2 in c:\\users\\tsmierzchalski\\anaconda3\\envs\\workshop\\lib\\site-packages (from dwave-cloud-client==0.11.4->dwave-ocean-sdk>=3.3.0->-r requirements.txt (line 1)) (1.3.0)\n",
      "Requirement already satisfied: importlib-metadata>=5.0.0 in c:\\users\\tsmierzchalski\\anaconda3\\envs\\workshop\\lib\\site-packages (from dwave-cloud-client==0.11.4->dwave-ocean-sdk>=3.3.0->-r requirements.txt (line 1)) (7.1.0)\n",
      "Requirement already satisfied: Flask<4,>=2.2 in c:\\users\\tsmierzchalski\\anaconda3\\envs\\workshop\\lib\\site-packages (from dwave-inspector==0.5.0->dwave-ocean-sdk>=3.3.0->-r requirements.txt (line 1)) (2.2.3)\n",
      "Requirement already satisfied: orjson>=3.10.0 in c:\\users\\tsmierzchalski\\anaconda3\\envs\\workshop\\lib\\site-packages (from dwave-inspector==0.5.0->dwave-ocean-sdk>=3.3.0->-r requirements.txt (line 1)) (3.10.1)\n",
      "Requirement already satisfied: scipy>=1.7.3 in c:\\users\\tsmierzchalski\\anaconda3\\envs\\workshop\\lib\\site-packages (from dwave-system==1.24.0->dwave-ocean-sdk>=3.3.0->-r requirements.txt (line 1)) (1.10.1)\n",
      "Requirement already satisfied: fasteners>=0.15 in c:\\users\\tsmierzchalski\\anaconda3\\envs\\workshop\\lib\\site-packages (from minorminer==0.2.13->dwave-ocean-sdk>=3.3.0->-r requirements.txt (line 1)) (0.18)\n",
      "Requirement already satisfied: rectangle-packer>=2.0.1 in c:\\users\\tsmierzchalski\\anaconda3\\envs\\workshop\\lib\\site-packages (from minorminer==0.2.13->dwave-ocean-sdk>=3.3.0->-r requirements.txt (line 1)) (2.0.1)\n",
      "Requirement already satisfied: contourpy>=1.0.1 in c:\\users\\tsmierzchalski\\anaconda3\\envs\\workshop\\lib\\site-packages (from matplotlib>=3.3.4->-r requirements.txt (line 2)) (1.2.1)\n",
      "Requirement already satisfied: cycler>=0.10 in c:\\users\\tsmierzchalski\\anaconda3\\envs\\workshop\\lib\\site-packages (from matplotlib>=3.3.4->-r requirements.txt (line 2)) (0.12.1)\n",
      "Requirement already satisfied: fonttools>=4.22.0 in c:\\users\\tsmierzchalski\\anaconda3\\envs\\workshop\\lib\\site-packages (from matplotlib>=3.3.4->-r requirements.txt (line 2)) (4.51.0)\n",
      "Requirement already satisfied: kiwisolver>=1.3.1 in c:\\users\\tsmierzchalski\\anaconda3\\envs\\workshop\\lib\\site-packages (from matplotlib>=3.3.4->-r requirements.txt (line 2)) (1.4.5)\n",
      "Requirement already satisfied: pillow>=8 in c:\\users\\tsmierzchalski\\anaconda3\\envs\\workshop\\lib\\site-packages (from matplotlib>=3.3.4->-r requirements.txt (line 2)) (10.3.0)\n",
      "Requirement already satisfied: pyparsing>=2.3.1 in c:\\users\\tsmierzchalski\\anaconda3\\envs\\workshop\\lib\\site-packages (from matplotlib>=3.3.4->-r requirements.txt (line 2)) (3.1.2)\n",
      "Requirement already satisfied: six>=1.5 in c:\\users\\tsmierzchalski\\anaconda3\\envs\\workshop\\lib\\site-packages (from python-dateutil<3,>=2.7->dwave-cloud-client==0.11.4->dwave-ocean-sdk>=3.3.0->-r requirements.txt (line 1)) (1.16.0)\n",
      "Requirement already satisfied: cryptography in c:\\users\\tsmierzchalski\\anaconda3\\envs\\workshop\\lib\\site-packages (from authlib<2,>=1.2->dwave-cloud-client==0.11.4->dwave-ocean-sdk>=3.3.0->-r requirements.txt (line 1)) (42.0.5)\n",
      "Requirement already satisfied: colorama in c:\\users\\tsmierzchalski\\anaconda3\\envs\\workshop\\lib\\site-packages (from click<9,>=7.0->dwave-cloud-client==0.11.4->dwave-ocean-sdk>=3.3.0->-r requirements.txt (line 1)) (0.4.6)\n",
      "Requirement already satisfied: Jinja2>=3.0 in c:\\users\\tsmierzchalski\\anaconda3\\envs\\workshop\\lib\\site-packages (from Flask<4,>=2.2->dwave-inspector==0.5.0->dwave-ocean-sdk>=3.3.0->-r requirements.txt (line 1)) (3.1.2)\n",
      "Requirement already satisfied: itsdangerous>=2.0 in c:\\users\\tsmierzchalski\\anaconda3\\envs\\workshop\\lib\\site-packages (from Flask<4,>=2.2->dwave-inspector==0.5.0->dwave-ocean-sdk>=3.3.0->-r requirements.txt (line 1)) (2.1.2)\n",
      "Requirement already satisfied: zipp>=0.5 in c:\\users\\tsmierzchalski\\anaconda3\\envs\\workshop\\lib\\site-packages (from importlib-metadata>=5.0.0->dwave-cloud-client==0.11.4->dwave-ocean-sdk>=3.3.0->-r requirements.txt (line 1)) (3.18.1)\n",
      "Requirement already satisfied: annotated-types>=0.4.0 in c:\\users\\tsmierzchalski\\anaconda3\\envs\\workshop\\lib\\site-packages (from pydantic<3,>=2->dwave-cloud-client==0.11.4->dwave-ocean-sdk>=3.3.0->-r requirements.txt (line 1)) (0.6.0)\n",
      "Requirement already satisfied: pydantic-core==2.18.2 in c:\\users\\tsmierzchalski\\anaconda3\\envs\\workshop\\lib\\site-packages (from pydantic<3,>=2->dwave-cloud-client==0.11.4->dwave-ocean-sdk>=3.3.0->-r requirements.txt (line 1)) (2.18.2)\n",
      "Requirement already satisfied: charset-normalizer<4,>=2 in c:\\users\\tsmierzchalski\\anaconda3\\envs\\workshop\\lib\\site-packages (from requests[socks]<3,>=2.25->dwave-cloud-client==0.11.4->dwave-ocean-sdk>=3.3.0->-r requirements.txt (line 1)) (3.1.0)\n",
      "Requirement already satisfied: idna<4,>=2.5 in c:\\users\\tsmierzchalski\\anaconda3\\envs\\workshop\\lib\\site-packages (from requests[socks]<3,>=2.25->dwave-cloud-client==0.11.4->dwave-ocean-sdk>=3.3.0->-r requirements.txt (line 1)) (3.4)\n",
      "Requirement already satisfied: certifi>=2017.4.17 in c:\\users\\tsmierzchalski\\anaconda3\\envs\\workshop\\lib\\site-packages (from requests[socks]<3,>=2.25->dwave-cloud-client==0.11.4->dwave-ocean-sdk>=3.3.0->-r requirements.txt (line 1)) (2022.12.7)\n",
      "Requirement already satisfied: PySocks!=1.5.7,>=1.5.6 in c:\\users\\tsmierzchalski\\anaconda3\\envs\\workshop\\lib\\site-packages (from requests[socks]<3,>=2.25->dwave-cloud-client==0.11.4->dwave-ocean-sdk>=3.3.0->-r requirements.txt (line 1)) (1.7.1)\n",
      "Requirement already satisfied: MarkupSafe>=2.1.1 in c:\\users\\tsmierzchalski\\anaconda3\\envs\\workshop\\lib\\site-packages (from werkzeug<4,>=2.2->dwave-cloud-client==0.11.4->dwave-ocean-sdk>=3.3.0->-r requirements.txt (line 1)) (2.1.1)\n",
      "Requirement already satisfied: cffi>=1.12 in c:\\users\\tsmierzchalski\\anaconda3\\envs\\workshop\\lib\\site-packages (from cryptography->authlib<2,>=1.2->dwave-cloud-client==0.11.4->dwave-ocean-sdk>=3.3.0->-r requirements.txt (line 1)) (1.15.1)\n",
      "Requirement already satisfied: pycparser in c:\\users\\tsmierzchalski\\anaconda3\\envs\\workshop\\lib\\site-packages (from cffi>=1.12->cryptography->authlib<2,>=1.2->dwave-cloud-client==0.11.4->dwave-ocean-sdk>=3.3.0->-r requirements.txt (line 1)) (2.21)\n",
      "Note: you may need to restart the kernel to use updated packages.\n",
      "All packages are installed.\n",
      "Using endpoint: https://cloud.dwavesys.com/sapi/\n",
      "Using region: na-west-1\n",
      "Using solver: Advantage_system4.1\n",
      "Submitted problem ID: 74000984-0987-429c-8b46-24f4324819d5\n",
      "\n",
      "Wall clock time:\n",
      " * Solver definition fetch: 2073.545 ms\n",
      " * Problem submit and results fetch: 2872.004 ms\n",
      " * Total: 4945.548 ms\n",
      "\n",
      "QPU timing:\n",
      " * post_processing_overhead_time = 1.0 us\n",
      " * qpu_access_overhead_time = 5.65 us\n",
      " * qpu_access_time = 15861.35 us\n",
      " * qpu_anneal_time_per_sample = 20.0 us\n",
      " * qpu_delay_time_per_sample = 20.58 us\n",
      " * qpu_programming_time = 15784.37 us\n",
      " * qpu_readout_time_per_sample = 36.4 us\n",
      " * qpu_sampling_time = 76.98 us\n",
      " * total_post_processing_time = 1.0 us\n",
      "Connection to D-Wave computers is working.\n"
     ]
    }
   ],
   "source": [
    "# Run this cell to install required Python packages\n",
    "%pip install -r requirements.txt\n",
    "\n",
    "import numpy\n",
    "import networkx\n",
    "import matplotlib\n",
    "print(\"All packages are installed.\")\n",
    "\n",
    "!dwave ping\n",
    "print(\"Connection to D-Wave computers is working.\")"
   ]
  },
  {
   "cell_type": "markdown",
   "metadata": {},
   "source": [
    "# D-Wave Setup\n",
    "\n",
    "This is a step-by-step guide to start your work with D-Waves computers.\n",
    "\n",
    "## Create D-Wave Leap Account\n",
    "\n",
    "1. Go to the page https://cloud.dwavesys.com/leap/login/?next=/leap/\n",
    "2. Sign up for the account. Remember that the email you will provide will be used for two-factor authentication later. Don't worry about other fields.\n",
    "\n",
    "\n",
    "## How to use IDE workspace\n",
    "\n",
    "1. Create an empty GitHub repository where you will store your work.\n",
    "  * **Important** Repository must be public, or you may grant gitpod access to it.\n",
    "2. Now, navigate to \"IDE workspace\" on your Leap front page.\n",
    "\n",
    "![IDE workspace](pictures/IDE_workspace1.png)\n",
    "\n",
    "3. There, you click \"New Workspace\" and provide a link to the previously created repository."
   ]
  },
  {
   "cell_type": "markdown",
   "metadata": {},
   "source": [
    "# How to setup local \n",
    "1. Create a new local Python environment (conda, pyenv, etc.) or use an existing one.\n",
    "2. Activate your environment.  \n",
    "3. Install Ocean SDK (software development kit)\n",
    "    > pip install dwave-ocean-sdk   \n",
    "    * If you are using an environment created in the previous section (Local Python Setup), then this package should be installed already.\n",
    "4. Run \n",
    "    > dwave setup\n",
    "    * It will ask for installation of non-open-source tools. It is recommended to install `D-Wave Problem Inspector` and `D-Wave Drivers`.\n",
    "    * Profile can be left with default settings\n",
    "    * **Important** Now you can enter an autentication token. You can find it in your account page on D-Wave Leap.\n",
    "  ![API token location](pictures/API_token.png)\n",
    "  \n",
    "5. Check if everything is working. Run\n",
    "    > dwave ping\n",
    "  \n",
    "## Now we are ready to go!"
   ]
  }
 ],
 "metadata": {
  "kernelspec": {
   "display_name": "workshop",
   "language": "python",
   "name": "python3"
  },
  "language_info": {
   "codemirror_mode": {
    "name": "ipython",
    "version": 3
   },
   "file_extension": ".py",
   "mimetype": "text/x-python",
   "name": "python",
   "nbconvert_exporter": "python",
   "pygments_lexer": "ipython3",
   "version": "3.11.2"
  }
 },
 "nbformat": 4,
 "nbformat_minor": 2
}
