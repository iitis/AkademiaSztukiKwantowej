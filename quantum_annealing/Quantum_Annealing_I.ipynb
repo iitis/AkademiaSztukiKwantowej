{
 "cells": [
  {
   "cell_type": "markdown",
   "metadata": {},
   "source": [
    "![IITIS](pictures/logoIITISduze.png)"
   ]
  },
  {
   "cell_type": "markdown",
   "metadata": {},
   "source": [
    "\n",
    "# Quantum Annealing\n",
    "\n",
    "Quantum annealing is a computational technique that uses quantum mechanics to solve optimization problems by manipulating the energy states of a physical system, such as the spin states of qubits, to find the lowest energy state corresponding to the optimal solution of the problem. \n",
    "\n",
    "The most widely used physical system to encode optimization problems is the Ising Model:\n",
    "\n",
    "$$ H_{\\text{Ising}}(s) = \\sum_{(i,j) \\in \\mathcal{G}} J_{ij} s_i s_j + \\sum_{i} h_{i} s_i, \\quad s_i \\in \\{-1, 1\\}$$\n",
    "\n",
    "It is very similar to QUBO!\n",
    "\n",
    "## Solving Ising model\n",
    "\n",
    "![picture](pictures/example.png)\n",
    "\n",
    "## How annealing works?\n",
    "\n",
    "We initialize the system in the ground state (lowest energy) of some quantum system and then slowly evolve it to the desired system:\n",
    "\n",
    "$$H(t) = A(t) H_X + B(t) H_{\\text{Ising}}$$\n",
    "$$H_X = \\sum_{i} \\sigma^{X}_i $$\n",
    "\n",
    "\n",
    "Don't worry. The underlying physic is not essential for this workshop! Nevertheless, it is worth knowing.\n",
    "\n"
   ]
  },
  {
   "cell_type": "markdown",
   "metadata": {},
   "source": []
  }
 ],
 "metadata": {
  "language_info": {
   "name": "python"
  }
 },
 "nbformat": 4,
 "nbformat_minor": 2
}
