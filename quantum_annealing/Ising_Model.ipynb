{
 "cells": [
  {
   "cell_type": "markdown",
   "metadata": {},
   "source": [
    "![IITIS](pictures/logoIITISduze.png)"
   ]
  },
  {
   "cell_type": "markdown",
   "metadata": {},
   "source": [
    "# Introduction to Ising Model\n",
    "\n",
    "The Ising model has begun its life as a model of ferromagnetism. Ernst Ising introduced it in the early 1920s, and it has since become a fundamental model for understanding phase transitions and emergent properties in various physical systems. In this course, we will focus on one problem related to the Ising model: finding its ground state (i.e., the state with the lowest energy) and a low energy spectrum. As will be shown later in the course, the Ising model is significant not only in physics but also influences fields such as finance, social dynamics, and optimization in computer science.\n",
    "\n"
   ]
  },
  {
   "cell_type": "markdown",
   "metadata": {},
   "source": [
    "\n",
    "## Definition\n",
    "Let us consider a vector of binary variables $|\\bm{s}\\rangle = (s_1, s_2, \\ldots, s_N)$. These variables are called **spin** and can be in one of two states: up (+1) or down (-1), formally $s_i = \\pm 1$. Spins are arranged on some simple graph $G$, which describes interactions between them. The edges of $G$ (denoted $E(G)$) determine which spin interacts with which. The strength of the interaction (or coupling) between $s_i$ and $s_j$ is denoted by $J_{ij} \\in \\mathbb{R}$. Additionally, each spin is subjected to the external magnetic field (or simply bias) $h_i \\in \\mathbb{R}$. The energy of the system is calculated in the following way:\n",
    "$$\n",
    "E(\\bm{s}) = \\sum_{(i, j) \\in E(G)} J_{ij} s_i s_j + \\sum_{i=1}^{N} h_i s_i\n",
    "$$"
   ]
  },
  {
   "cell_type": "markdown",
   "metadata": {},
   "source": [
    "PICTURE"
   ]
  },
  {
   "cell_type": "markdown",
   "metadata": {},
   "source": [
    "From a computing standpoint, looking at the Ising model in terms of linear algebra may be easier. We look into the adjacency matrix of graph $G$ and treat each $J_{ij}$ as weight assigned to the edge. As $G$ is undirected, $J_{ij} = J_{ji}$. To avoid needles work, we can treat this matrix as an upper-triangular matrix and only care for $J_{ij}$ where $ I < j$. It is customary to denote this matrix by $J$. Additionally, we can order values $h_i$ into the vector $|\\bm{h}\\rangle$ Then the equation for $E(\\bm{s})$ is equal:\n",
    "$$\n",
    "E(\\bm{s}) = \\langle\\bm{s}|J|\\bm{s}\\rangle + \\langle\\bm{h}|\\bm{s}\\rangle\n",
    "$$"
   ]
  },
  {
   "cell_type": "markdown",
   "metadata": {},
   "source": [
    "### Exercise 1\n",
    "Show that the two approaches mentioned above are indeed equal."
   ]
  },
  {
   "cell_type": "markdown",
   "metadata": {},
   "source": [
    "The Ising model hamiltonian may be formulated using Pauli matrices. As reminder, the Pauli $Z$ matrix $\\sigma^{Z}$ is defined as:\n",
    "\n",
    "$$\\sigma^{Z} = \\begin{bmatrix} \n",
    "1 & 0 \\\\ \n",
    "0 & -1 \n",
    "\\end{bmatrix}  $$\n",
    "\n",
    "It is worth noting that $\\sigma^{Z}$ has eigenvalues $-1$ and $1$ with coresponding eigenvectors $|0\\rangle$ and $|1\\rangle$ respectivelly. \n",
    "\n",
    "$$\n",
    "\\sigma_i^{Z} = \\underbrace{I  \\otimes \\ldots \\otimes I}_{\\text{$i-1$~times}} \\otimes \\underbrace{\\sigma^Z}_{\\text{$i$~-th place}} \\otimes \\underbrace{ I \\otimes \\ldots \\otimes I}_{\\text{$N-i$~times}}\n",
    "$$\n"
   ]
  }
 ],
 "metadata": {
  "language_info": {
   "name": "python"
  }
 },
 "nbformat": 4,
 "nbformat_minor": 2
}
