{
 "cells": [
  {
   "cell_type": "markdown",
   "metadata": {},
   "source": [
    "![IITIS](pictures/logoIITISduze.png)"
   ]
  },
  {
   "cell_type": "markdown",
   "metadata": {},
   "source": [
    "# Introduction to Tensor Networks\n",
    "\n",
    "## Tensor\n",
    "Generally speaking, a tensor here is defined as a series of numbers labeled by $N$ indexes, with $N$ called the  of the tensor. For our purposes, a tensor can simply be understood as a multi-dimensional array of numbers. \n",
    "\n",
    "\n",
    "Typically we use a diagrammatic notation for tensors, where each tensor is drawn as a solid shape with a number of 'legs' corresponding to its order:   \n",
    "   \n",
    "PICTURE   \n"
   ]
  }
 ],
 "metadata": {
  "kernelspec": {
   "display_name": "workshop",
   "language": "python",
   "name": "python3"
  },
  "language_info": {
   "name": "python",
   "version": "3.11.2"
  }
 },
 "nbformat": 4,
 "nbformat_minor": 2
}
